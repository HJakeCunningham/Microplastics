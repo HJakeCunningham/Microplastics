{
 "cells": [
  {
   "cell_type": "code",
   "execution_count": 2,
   "metadata": {},
   "outputs": [],
   "source": [
    "import xarray as x\n",
    "import numpy as np\n",
    "from tqdm.autonotebook import tqdm"
   ]
  },
  {
   "cell_type": "code",
   "execution_count": 3,
   "metadata": {},
   "outputs": [],
   "source": [
    "years = np.linspace(2002, 2014, 13)\n",
    "months = np.linspace(1,12,12)"
   ]
  },
  {
   "cell_type": "code",
   "execution_count": 4,
   "metadata": {},
   "outputs": [
    {
     "name": "stderr",
     "output_type": "stream",
     "text": [
      "100%|██████████| 12/12 [01:28<00:00,  7.37s/it]\n",
      "100%|██████████| 12/12 [01:30<00:00,  7.54s/it]\n",
      "100%|██████████| 12/12 [01:32<00:00,  7.72s/it]\n",
      "100%|██████████| 12/12 [01:29<00:00,  7.47s/it]\n",
      "100%|██████████| 12/12 [01:30<00:00,  7.53s/it]\n",
      "100%|██████████| 12/12 [01:29<00:00,  7.44s/it]\n",
      "100%|██████████| 12/12 [01:29<00:00,  7.46s/it]\n",
      "100%|██████████| 12/12 [01:29<00:00,  7.46s/it]\n",
      "100%|██████████| 12/12 [01:29<00:00,  7.47s/it]\n",
      "100%|██████████| 12/12 [01:29<00:00,  7.46s/it]\n",
      "100%|██████████| 12/12 [01:31<00:00,  7.60s/it]\n",
      "100%|██████████| 12/12 [01:31<00:00,  7.62s/it]\n",
      "100%|██████████| 12/12 [01:31<00:00,  7.65s/it]\n",
      "100%|██████████| 13/13 [19:33<00:00, 90.25s/it]\n"
     ]
    }
   ],
   "source": [
    "for year in tqdm(years):\n",
    "    for month in tqdm(months):\n",
    "        files = ('/Volumes/4YP/Data/Eulerian_24hr/Eulerian' + str(int(year)) + str(int(month)).zfill(2) + '*.nc')\n",
    "        data = x.open_mfdataset(files)\n",
    "        data.to_netcdf('/Volumes/4YP/Data/Eulerian_24hr_monthly_aggregated/Eulerian' + str(int(year)) + str(int(month)).zfill(2) + '.nc')"
   ]
  },
  {
   "cell_type": "code",
   "execution_count": 32,
   "metadata": {},
   "outputs": [
    {
     "name": "stdout",
     "output_type": "stream",
     "text": [
      "<xarray.Dataset>\n",
      "Dimensions:    (latitude: 317, longitude: 720, time: 31)\n",
      "Coordinates:\n",
      "  * time       (time) datetime64[ns] 2002-01-01 2002-01-02 ... 2002-01-31\n",
      "  * latitude   (latitude) float64 -78.0 -77.5 -77.0 -76.5 ... 79.0 79.5 80.0\n",
      "  * longitude  (longitude) float64 -180.0 -179.5 -179.0 ... 178.5 179.0 179.5\n",
      "Data variables:\n",
      "    U          (time, latitude, longitude) float64 ...\n",
      "    V          (time, latitude, longitude) float64 ...\n",
      "Attributes:\n",
      "    description:  Daily Mean Eulerian Current 20020101\n"
     ]
    }
   ],
   "source": [
    "test_data = x.open_dataset('/Volumes/4YP/Data/Eulerian_24hr_monthly_aggregated/Eulerian' + str(int(2002)) + str(int(1)).zfill(2) + '.nc')\n",
    "print(test_data)"
   ]
  },
  {
   "cell_type": "code",
   "execution_count": null,
   "metadata": {},
   "outputs": [],
   "source": []
  }
 ],
 "metadata": {
  "interpreter": {
   "hash": "52946d8bbc9f590a29feaf92650e4ba36d35ab0bd4afd5d311f535e35cff8139"
  },
  "kernelspec": {
   "display_name": "Python 3.7.4 64-bit ('base': conda)",
   "language": "python",
   "name": "python3"
  },
  "language_info": {
   "codemirror_mode": {
    "name": "ipython",
    "version": 3
   },
   "file_extension": ".py",
   "mimetype": "text/x-python",
   "name": "python",
   "nbconvert_exporter": "python",
   "pygments_lexer": "ipython3",
   "version": "3.7.4"
  },
  "orig_nbformat": 4
 },
 "nbformat": 4,
 "nbformat_minor": 2
}
