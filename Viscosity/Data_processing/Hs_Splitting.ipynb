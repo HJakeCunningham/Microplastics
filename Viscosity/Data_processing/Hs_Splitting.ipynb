{
 "cells": [
  {
   "cell_type": "code",
   "execution_count": 14,
   "metadata": {},
   "outputs": [],
   "source": [
    "import urllib\n",
    "import numpy as np\n",
    "from datetime import date, datetime, timedelta\n",
    "from tqdm.autonotebook import tqdm\n",
    "import xarray\n",
    "import warnings; warnings.simplefilter('ignore')\n",
    "import pandas as pd "
   ]
  },
  {
   "cell_type": "code",
   "execution_count": 28,
   "metadata": {},
   "outputs": [],
   "source": [
    "start = datetime(2002,1,1)\n",
    "end = datetime(2014,12,31)\n",
    "delta = timedelta(days=1)\n",
    "\n",
    "dates = []\n",
    "years = []\n",
    "current = start\n",
    "dates.append(current.strftime('%Y%m'))\n",
    "years.append(current.strftime('%Y'))\n",
    "while current < end:\n",
    "    current += delta\n",
    "    dates.append(current.strftime('%Y%m'))\n",
    "    years.append(current.strftime('%Y'))"
   ]
  },
  {
   "cell_type": "code",
   "execution_count": 29,
   "metadata": {},
   "outputs": [],
   "source": [
    "path = '/Volumes/JCHD/Microplastics_Paper/Data/Hs_24hr/Hs' + dates[0] + '.nc'"
   ]
  },
  {
   "cell_type": "code",
   "execution_count": 30,
   "metadata": {},
   "outputs": [
    {
     "name": "stdout",
     "output_type": "stream",
     "text": [
      "/Volumes/JCHD/Microplastics_Paper/Data/Hs_24hr/Hs200201.nc\n"
     ]
    }
   ],
   "source": [
    "print(path)"
   ]
  },
  {
   "cell_type": "code",
   "execution_count": 31,
   "metadata": {},
   "outputs": [],
   "source": [
    "file = xarray.open_dataset(path)"
   ]
  },
  {
   "cell_type": "code",
   "execution_count": 32,
   "metadata": {},
   "outputs": [
    {
     "name": "stdout",
     "output_type": "stream",
     "text": [
      "<xarray.Dataset>\n",
      "Dimensions:    (latitude: 317, longitude: 720, time: 31)\n",
      "Coordinates:\n",
      "  * time       (time) datetime64[ns] 2002-01-01 2002-01-02 ... 2002-01-31\n",
      "  * longitude  (longitude) float32 -180.0 -179.5 -179.0 ... 178.5 179.0 179.5\n",
      "  * latitude   (latitude) float32 -78.0 -77.5 -77.0 -76.5 ... 79.0 79.5 80.0\n",
      "Data variables:\n",
      "    Hs         (time, latitude, longitude) float32 ...\n"
     ]
    }
   ],
   "source": [
    "print(file)"
   ]
  },
  {
   "cell_type": "code",
   "execution_count": 33,
   "metadata": {},
   "outputs": [
    {
     "data": {
      "application/vnd.jupyter.widget-view+json": {
       "model_id": "9dc29f25eb0444438a4f97a753d5386e",
       "version_major": 2,
       "version_minor": 0
      },
      "text/plain": [
       "HBox(children=(IntProgress(value=0, max=4748), HTML(value='')))"
      ]
     },
     "metadata": {},
     "output_type": "display_data"
    },
    {
     "name": "stdout",
     "output_type": "stream",
     "text": [
      "\n"
     ]
    }
   ],
   "source": [
    "for date in tqdm(dates):\n",
    "    path = '/Volumes/JCHD/Microplastics_Paper/Data/Hs_24hr/Hs' + date + '.nc'\n",
    "    file = xarray.open_dataset(path)\n",
    "    for i in range(len(file.time)):\n",
    "        time = pd.to_datetime(str(file.time.values[i])) \n",
    "        t = time.strftime('%Y%m%d')\n",
    "        save_path = '/Volumes/JCHD/Microplastics_Paper/Data/Hs_24hr_split/Hs' + t + '.nc'\n",
    "        file.Hs[i].to_netcdf(save_path)"
   ]
  },
  {
   "cell_type": "code",
   "execution_count": null,
   "metadata": {},
   "outputs": [],
   "source": []
  }
 ],
 "metadata": {
  "kernelspec": {
   "display_name": "Python 3",
   "language": "python",
   "name": "python3"
  },
  "language_info": {
   "codemirror_mode": {
    "name": "ipython",
    "version": 3
   },
   "file_extension": ".py",
   "mimetype": "text/x-python",
   "name": "python",
   "nbconvert_exporter": "python",
   "pygments_lexer": "ipython3",
   "version": "3.7.4"
  }
 },
 "nbformat": 4,
 "nbformat_minor": 4
}
