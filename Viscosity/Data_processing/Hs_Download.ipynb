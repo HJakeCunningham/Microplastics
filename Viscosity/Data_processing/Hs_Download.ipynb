{
 "cells": [
  {
   "cell_type": "code",
   "execution_count": 1,
   "metadata": {},
   "outputs": [
    {
     "name": "stderr",
     "output_type": "stream",
     "text": [
      "/Users/jakecunningham/opt/anaconda3/lib/python3.7/site-packages/tqdm/autonotebook.py:17: TqdmExperimentalWarning: Using `tqdm.autonotebook.tqdm` in notebook mode. Use `tqdm.tqdm` instead to force console mode (e.g. in jupyter console)\n",
      "  \" (e.g. in jupyter console)\", TqdmExperimentalWarning)\n"
     ]
    }
   ],
   "source": [
    "import urllib\n",
    "import numpy as np\n",
    "from datetime import date, datetime, timedelta\n",
    "from dateutil.relativedelta import relativedelta\n",
    "from tqdm.autonotebook import tqdm\n",
    "import xarray\n",
    "import warnings\n",
    "warnings.simplefilter('ignore')"
   ]
  },
  {
   "cell_type": "code",
   "execution_count": 2,
   "metadata": {},
   "outputs": [],
   "source": [
    "start = datetime(2003,1,1)\n",
    "end = datetime(2014,12,1)\n",
    "delta = relativedelta(months=+1)"
   ]
  },
  {
   "cell_type": "code",
   "execution_count": 3,
   "metadata": {},
   "outputs": [],
   "source": [
    "dates = []\n",
    "years = []\n",
    "current = start\n",
    "dates.append(current.strftime('%Y%m'))\n",
    "years.append(current.strftime('%Y'))\n",
    "while current < end:\n",
    "    current += delta\n",
    "    dates.append(current.strftime('%Y%m'))\n",
    "    years.append(current.strftime('%Y'))"
   ]
  },
  {
   "cell_type": "code",
   "execution_count": 35,
   "metadata": {},
   "outputs": [
    {
     "data": {
      "application/vnd.jupyter.widget-view+json": {
       "model_id": "b2b000a2e8b443e58f1fee097c7147e2",
       "version_major": 2,
       "version_minor": 0
      },
      "text/plain": [
       "HBox(children=(IntProgress(value=0, max=134), HTML(value='')))"
      ]
     },
     "metadata": {},
     "output_type": "display_data"
    },
    {
     "name": "stdout",
     "output_type": "stream",
     "text": [
      "ftp://ftp.ifremer.fr/ifremer/ww3/HINDCAST/GLOBAL/2003_CFSR/hs/WW3-GLOB-30M_200311_hs.nc\n",
      "ftp://ftp.ifremer.fr/ifremer/ww3/HINDCAST/GLOBAL/2003_CFSR/hs/WW3-GLOB-30M_200312_hs.nc\n",
      "ftp://ftp.ifremer.fr/ifremer/ww3/HINDCAST/GLOBAL/2004_CFSR/hs/WW3-GLOB-30M_200401_hs.nc\n",
      "ftp://ftp.ifremer.fr/ifremer/ww3/HINDCAST/GLOBAL/2004_CFSR/hs/WW3-GLOB-30M_200402_hs.nc\n",
      "ftp://ftp.ifremer.fr/ifremer/ww3/HINDCAST/GLOBAL/2004_CFSR/hs/WW3-GLOB-30M_200403_hs.nc\n",
      "ftp://ftp.ifremer.fr/ifremer/ww3/HINDCAST/GLOBAL/2004_CFSR/hs/WW3-GLOB-30M_200404_hs.nc\n",
      "ftp://ftp.ifremer.fr/ifremer/ww3/HINDCAST/GLOBAL/2004_CFSR/hs/WW3-GLOB-30M_200405_hs.nc\n",
      "ftp://ftp.ifremer.fr/ifremer/ww3/HINDCAST/GLOBAL/2004_CFSR/hs/WW3-GLOB-30M_200406_hs.nc\n",
      "ftp://ftp.ifremer.fr/ifremer/ww3/HINDCAST/GLOBAL/2004_CFSR/hs/WW3-GLOB-30M_200407_hs.nc\n",
      "ftp://ftp.ifremer.fr/ifremer/ww3/HINDCAST/GLOBAL/2004_CFSR/hs/WW3-GLOB-30M_200408_hs.nc\n",
      "ftp://ftp.ifremer.fr/ifremer/ww3/HINDCAST/GLOBAL/2004_CFSR/hs/WW3-GLOB-30M_200409_hs.nc\n",
      "ftp://ftp.ifremer.fr/ifremer/ww3/HINDCAST/GLOBAL/2004_CFSR/hs/WW3-GLOB-30M_200410_hs.nc\n",
      "ftp://ftp.ifremer.fr/ifremer/ww3/HINDCAST/GLOBAL/2004_CFSR/hs/WW3-GLOB-30M_200411_hs.nc\n",
      "ftp://ftp.ifremer.fr/ifremer/ww3/HINDCAST/GLOBAL/2004_CFSR/hs/WW3-GLOB-30M_200412_hs.nc\n",
      "ftp://ftp.ifremer.fr/ifremer/ww3/HINDCAST/GLOBAL/2005_CFSR/hs/WW3-GLOB-30M_200501_hs.nc\n",
      "ftp://ftp.ifremer.fr/ifremer/ww3/HINDCAST/GLOBAL/2005_CFSR/hs/WW3-GLOB-30M_200502_hs.nc\n",
      "ftp://ftp.ifremer.fr/ifremer/ww3/HINDCAST/GLOBAL/2005_CFSR/hs/WW3-GLOB-30M_200503_hs.nc\n",
      "ftp://ftp.ifremer.fr/ifremer/ww3/HINDCAST/GLOBAL/2005_CFSR/hs/WW3-GLOB-30M_200504_hs.nc\n",
      "ftp://ftp.ifremer.fr/ifremer/ww3/HINDCAST/GLOBAL/2005_CFSR/hs/WW3-GLOB-30M_200505_hs.nc\n",
      "ftp://ftp.ifremer.fr/ifremer/ww3/HINDCAST/GLOBAL/2005_CFSR/hs/WW3-GLOB-30M_200506_hs.nc\n",
      "ftp://ftp.ifremer.fr/ifremer/ww3/HINDCAST/GLOBAL/2005_CFSR/hs/WW3-GLOB-30M_200507_hs.nc\n",
      "ftp://ftp.ifremer.fr/ifremer/ww3/HINDCAST/GLOBAL/2005_CFSR/hs/WW3-GLOB-30M_200508_hs.nc\n",
      "ftp://ftp.ifremer.fr/ifremer/ww3/HINDCAST/GLOBAL/2005_CFSR/hs/WW3-GLOB-30M_200509_hs.nc\n",
      "ftp://ftp.ifremer.fr/ifremer/ww3/HINDCAST/GLOBAL/2005_CFSR/hs/WW3-GLOB-30M_200510_hs.nc\n",
      "ftp://ftp.ifremer.fr/ifremer/ww3/HINDCAST/GLOBAL/2005_CFSR/hs/WW3-GLOB-30M_200511_hs.nc\n",
      "ftp://ftp.ifremer.fr/ifremer/ww3/HINDCAST/GLOBAL/2005_CFSR/hs/WW3-GLOB-30M_200512_hs.nc\n",
      "ftp://ftp.ifremer.fr/ifremer/ww3/HINDCAST/GLOBAL/2006_CFSR/hs/WW3-GLOB-30M_200601_hs.nc\n",
      "ftp://ftp.ifremer.fr/ifremer/ww3/HINDCAST/GLOBAL/2006_CFSR/hs/WW3-GLOB-30M_200602_hs.nc\n",
      "ftp://ftp.ifremer.fr/ifremer/ww3/HINDCAST/GLOBAL/2006_CFSR/hs/WW3-GLOB-30M_200603_hs.nc\n",
      "ftp://ftp.ifremer.fr/ifremer/ww3/HINDCAST/GLOBAL/2006_CFSR/hs/WW3-GLOB-30M_200604_hs.nc\n",
      "ftp://ftp.ifremer.fr/ifremer/ww3/HINDCAST/GLOBAL/2006_CFSR/hs/WW3-GLOB-30M_200605_hs.nc\n",
      "ftp://ftp.ifremer.fr/ifremer/ww3/HINDCAST/GLOBAL/2006_CFSR/hs/WW3-GLOB-30M_200606_hs.nc\n",
      "ftp://ftp.ifremer.fr/ifremer/ww3/HINDCAST/GLOBAL/2006_CFSR/hs/WW3-GLOB-30M_200607_hs.nc\n",
      "ftp://ftp.ifremer.fr/ifremer/ww3/HINDCAST/GLOBAL/2006_CFSR/hs/WW3-GLOB-30M_200608_hs.nc\n",
      "ftp://ftp.ifremer.fr/ifremer/ww3/HINDCAST/GLOBAL/2006_CFSR/hs/WW3-GLOB-30M_200609_hs.nc\n",
      "ftp://ftp.ifremer.fr/ifremer/ww3/HINDCAST/GLOBAL/2006_CFSR/hs/WW3-GLOB-30M_200610_hs.nc\n",
      "ftp://ftp.ifremer.fr/ifremer/ww3/HINDCAST/GLOBAL/2006_CFSR/hs/WW3-GLOB-30M_200611_hs.nc\n",
      "ftp://ftp.ifremer.fr/ifremer/ww3/HINDCAST/GLOBAL/2006_CFSR/hs/WW3-GLOB-30M_200612_hs.nc\n",
      "ftp://ftp.ifremer.fr/ifremer/ww3/HINDCAST/GLOBAL/2007_CFSR/hs/WW3-GLOB-30M_200701_hs.nc\n",
      "ftp://ftp.ifremer.fr/ifremer/ww3/HINDCAST/GLOBAL/2007_CFSR/hs/WW3-GLOB-30M_200702_hs.nc\n",
      "ftp://ftp.ifremer.fr/ifremer/ww3/HINDCAST/GLOBAL/2007_CFSR/hs/WW3-GLOB-30M_200703_hs.nc\n",
      "ftp://ftp.ifremer.fr/ifremer/ww3/HINDCAST/GLOBAL/2007_CFSR/hs/WW3-GLOB-30M_200704_hs.nc\n",
      "ftp://ftp.ifremer.fr/ifremer/ww3/HINDCAST/GLOBAL/2007_CFSR/hs/WW3-GLOB-30M_200705_hs.nc\n",
      "ftp://ftp.ifremer.fr/ifremer/ww3/HINDCAST/GLOBAL/2007_CFSR/hs/WW3-GLOB-30M_200706_hs.nc\n",
      "ftp://ftp.ifremer.fr/ifremer/ww3/HINDCAST/GLOBAL/2007_CFSR/hs/WW3-GLOB-30M_200707_hs.nc\n",
      "ftp://ftp.ifremer.fr/ifremer/ww3/HINDCAST/GLOBAL/2007_CFSR/hs/WW3-GLOB-30M_200708_hs.nc\n",
      "ftp://ftp.ifremer.fr/ifremer/ww3/HINDCAST/GLOBAL/2007_CFSR/hs/WW3-GLOB-30M_200709_hs.nc\n",
      "ftp://ftp.ifremer.fr/ifremer/ww3/HINDCAST/GLOBAL/2007_CFSR/hs/WW3-GLOB-30M_200710_hs.nc\n",
      "ftp://ftp.ifremer.fr/ifremer/ww3/HINDCAST/GLOBAL/2007_CFSR/hs/WW3-GLOB-30M_200711_hs.nc\n",
      "ftp://ftp.ifremer.fr/ifremer/ww3/HINDCAST/GLOBAL/2007_CFSR/hs/WW3-GLOB-30M_200712_hs.nc\n",
      "ftp://ftp.ifremer.fr/ifremer/ww3/HINDCAST/GLOBAL/2008_CFSR/hs/WW3-GLOB-30M_200801_hs.nc\n",
      "ftp://ftp.ifremer.fr/ifremer/ww3/HINDCAST/GLOBAL/2008_CFSR/hs/WW3-GLOB-30M_200802_hs.nc\n",
      "ftp://ftp.ifremer.fr/ifremer/ww3/HINDCAST/GLOBAL/2008_CFSR/hs/WW3-GLOB-30M_200803_hs.nc\n",
      "ftp://ftp.ifremer.fr/ifremer/ww3/HINDCAST/GLOBAL/2008_CFSR/hs/WW3-GLOB-30M_200804_hs.nc\n",
      "ftp://ftp.ifremer.fr/ifremer/ww3/HINDCAST/GLOBAL/2008_CFSR/hs/WW3-GLOB-30M_200805_hs.nc\n",
      "ftp://ftp.ifremer.fr/ifremer/ww3/HINDCAST/GLOBAL/2008_CFSR/hs/WW3-GLOB-30M_200806_hs.nc\n",
      "ftp://ftp.ifremer.fr/ifremer/ww3/HINDCAST/GLOBAL/2008_CFSR/hs/WW3-GLOB-30M_200807_hs.nc\n",
      "ftp://ftp.ifremer.fr/ifremer/ww3/HINDCAST/GLOBAL/2008_CFSR/hs/WW3-GLOB-30M_200808_hs.nc\n",
      "ftp://ftp.ifremer.fr/ifremer/ww3/HINDCAST/GLOBAL/2008_CFSR/hs/WW3-GLOB-30M_200809_hs.nc\n",
      "ftp://ftp.ifremer.fr/ifremer/ww3/HINDCAST/GLOBAL/2008_CFSR/hs/WW3-GLOB-30M_200810_hs.nc\n",
      "ftp://ftp.ifremer.fr/ifremer/ww3/HINDCAST/GLOBAL/2008_CFSR/hs/WW3-GLOB-30M_200811_hs.nc\n",
      "ftp://ftp.ifremer.fr/ifremer/ww3/HINDCAST/GLOBAL/2008_CFSR/hs/WW3-GLOB-30M_200812_hs.nc\n",
      "ftp://ftp.ifremer.fr/ifremer/ww3/HINDCAST/GLOBAL/2009_CFSR/hs/WW3-GLOB-30M_200901_hs.nc\n",
      "ftp://ftp.ifremer.fr/ifremer/ww3/HINDCAST/GLOBAL/2009_CFSR/hs/WW3-GLOB-30M_200902_hs.nc\n",
      "ftp://ftp.ifremer.fr/ifremer/ww3/HINDCAST/GLOBAL/2009_CFSR/hs/WW3-GLOB-30M_200903_hs.nc\n",
      "ftp://ftp.ifremer.fr/ifremer/ww3/HINDCAST/GLOBAL/2009_CFSR/hs/WW3-GLOB-30M_200904_hs.nc\n",
      "ftp://ftp.ifremer.fr/ifremer/ww3/HINDCAST/GLOBAL/2009_CFSR/hs/WW3-GLOB-30M_200905_hs.nc\n",
      "ftp://ftp.ifremer.fr/ifremer/ww3/HINDCAST/GLOBAL/2009_CFSR/hs/WW3-GLOB-30M_200906_hs.nc\n",
      "ftp://ftp.ifremer.fr/ifremer/ww3/HINDCAST/GLOBAL/2009_CFSR/hs/WW3-GLOB-30M_200907_hs.nc\n",
      "ftp://ftp.ifremer.fr/ifremer/ww3/HINDCAST/GLOBAL/2009_CFSR/hs/WW3-GLOB-30M_200908_hs.nc\n",
      "ftp://ftp.ifremer.fr/ifremer/ww3/HINDCAST/GLOBAL/2009_CFSR/hs/WW3-GLOB-30M_200909_hs.nc\n",
      "ftp://ftp.ifremer.fr/ifremer/ww3/HINDCAST/GLOBAL/2009_CFSR/hs/WW3-GLOB-30M_200910_hs.nc\n",
      "ftp://ftp.ifremer.fr/ifremer/ww3/HINDCAST/GLOBAL/2009_CFSR/hs/WW3-GLOB-30M_200911_hs.nc\n",
      "ftp://ftp.ifremer.fr/ifremer/ww3/HINDCAST/GLOBAL/2009_CFSR/hs/WW3-GLOB-30M_200912_hs.nc\n",
      "ftp://ftp.ifremer.fr/ifremer/ww3/HINDCAST/GLOBAL/2010_CFSR/hs/WW3-GLOB-30M_201001_hs.nc\n",
      "ftp://ftp.ifremer.fr/ifremer/ww3/HINDCAST/GLOBAL/2010_CFSR/hs/WW3-GLOB-30M_201002_hs.nc\n",
      "ftp://ftp.ifremer.fr/ifremer/ww3/HINDCAST/GLOBAL/2010_CFSR/hs/WW3-GLOB-30M_201003_hs.nc\n",
      "ftp://ftp.ifremer.fr/ifremer/ww3/HINDCAST/GLOBAL/2010_CFSR/hs/WW3-GLOB-30M_201004_hs.nc\n",
      "ftp://ftp.ifremer.fr/ifremer/ww3/HINDCAST/GLOBAL/2010_CFSR/hs/WW3-GLOB-30M_201005_hs.nc\n",
      "ftp://ftp.ifremer.fr/ifremer/ww3/HINDCAST/GLOBAL/2010_CFSR/hs/WW3-GLOB-30M_201006_hs.nc\n",
      "ftp://ftp.ifremer.fr/ifremer/ww3/HINDCAST/GLOBAL/2010_CFSR/hs/WW3-GLOB-30M_201007_hs.nc\n",
      "ftp://ftp.ifremer.fr/ifremer/ww3/HINDCAST/GLOBAL/2010_CFSR/hs/WW3-GLOB-30M_201008_hs.nc\n",
      "ftp://ftp.ifremer.fr/ifremer/ww3/HINDCAST/GLOBAL/2010_CFSR/hs/WW3-GLOB-30M_201009_hs.nc\n",
      "ftp://ftp.ifremer.fr/ifremer/ww3/HINDCAST/GLOBAL/2010_CFSR/hs/WW3-GLOB-30M_201010_hs.nc\n",
      "ftp://ftp.ifremer.fr/ifremer/ww3/HINDCAST/GLOBAL/2010_CFSR/hs/WW3-GLOB-30M_201011_hs.nc\n",
      "ftp://ftp.ifremer.fr/ifremer/ww3/HINDCAST/GLOBAL/2010_CFSR/hs/WW3-GLOB-30M_201012_hs.nc\n",
      "ftp://ftp.ifremer.fr/ifremer/ww3/HINDCAST/GLOBAL/2011_CFSR/hs/WW3-GLOB-30M_201101_hs.nc\n",
      "ftp://ftp.ifremer.fr/ifremer/ww3/HINDCAST/GLOBAL/2011_CFSR/hs/WW3-GLOB-30M_201102_hs.nc\n",
      "ftp://ftp.ifremer.fr/ifremer/ww3/HINDCAST/GLOBAL/2011_CFSR/hs/WW3-GLOB-30M_201103_hs.nc\n",
      "ftp://ftp.ifremer.fr/ifremer/ww3/HINDCAST/GLOBAL/2011_CFSR/hs/WW3-GLOB-30M_201104_hs.nc\n",
      "ftp://ftp.ifremer.fr/ifremer/ww3/HINDCAST/GLOBAL/2011_CFSR/hs/WW3-GLOB-30M_201105_hs.nc\n",
      "ftp://ftp.ifremer.fr/ifremer/ww3/HINDCAST/GLOBAL/2011_CFSR/hs/WW3-GLOB-30M_201106_hs.nc\n",
      "ftp://ftp.ifremer.fr/ifremer/ww3/HINDCAST/GLOBAL/2011_CFSR/hs/WW3-GLOB-30M_201107_hs.nc\n",
      "ftp://ftp.ifremer.fr/ifremer/ww3/HINDCAST/GLOBAL/2011_CFSR/hs/WW3-GLOB-30M_201108_hs.nc\n",
      "ftp://ftp.ifremer.fr/ifremer/ww3/HINDCAST/GLOBAL/2011_CFSR/hs/WW3-GLOB-30M_201109_hs.nc\n",
      "ftp://ftp.ifremer.fr/ifremer/ww3/HINDCAST/GLOBAL/2011_CFSR/hs/WW3-GLOB-30M_201110_hs.nc\n",
      "ftp://ftp.ifremer.fr/ifremer/ww3/HINDCAST/GLOBAL/2011_CFSR/hs/WW3-GLOB-30M_201111_hs.nc\n",
      "ftp://ftp.ifremer.fr/ifremer/ww3/HINDCAST/GLOBAL/2011_CFSR/hs/WW3-GLOB-30M_201112_hs.nc\n",
      "ftp://ftp.ifremer.fr/ifremer/ww3/HINDCAST/GLOBAL/2012_CFSR/hs/WW3-GLOB-30M_201201_hs.nc\n",
      "ftp://ftp.ifremer.fr/ifremer/ww3/HINDCAST/GLOBAL/2012_CFSR/hs/WW3-GLOB-30M_201202_hs.nc\n",
      "ftp://ftp.ifremer.fr/ifremer/ww3/HINDCAST/GLOBAL/2012_CFSR/hs/WW3-GLOB-30M_201203_hs.nc\n",
      "ftp://ftp.ifremer.fr/ifremer/ww3/HINDCAST/GLOBAL/2012_CFSR/hs/WW3-GLOB-30M_201204_hs.nc\n",
      "ftp://ftp.ifremer.fr/ifremer/ww3/HINDCAST/GLOBAL/2012_CFSR/hs/WW3-GLOB-30M_201205_hs.nc\n",
      "ftp://ftp.ifremer.fr/ifremer/ww3/HINDCAST/GLOBAL/2012_CFSR/hs/WW3-GLOB-30M_201206_hs.nc\n",
      "ftp://ftp.ifremer.fr/ifremer/ww3/HINDCAST/GLOBAL/2012_CFSR/hs/WW3-GLOB-30M_201207_hs.nc\n",
      "ftp://ftp.ifremer.fr/ifremer/ww3/HINDCAST/GLOBAL/2012_CFSR/hs/WW3-GLOB-30M_201208_hs.nc\n",
      "ftp://ftp.ifremer.fr/ifremer/ww3/HINDCAST/GLOBAL/2012_CFSR/hs/WW3-GLOB-30M_201209_hs.nc\n",
      "ftp://ftp.ifremer.fr/ifremer/ww3/HINDCAST/GLOBAL/2012_CFSR/hs/WW3-GLOB-30M_201210_hs.nc\n",
      "ftp://ftp.ifremer.fr/ifremer/ww3/HINDCAST/GLOBAL/2012_CFSR/hs/WW3-GLOB-30M_201211_hs.nc\n",
      "ftp://ftp.ifremer.fr/ifremer/ww3/HINDCAST/GLOBAL/2012_CFSR/hs/WW3-GLOB-30M_201212_hs.nc\n",
      "ftp://ftp.ifremer.fr/ifremer/ww3/HINDCAST/GLOBAL/2013_CFSR/hs/WW3-GLOB-30M_201301_hs.nc\n",
      "ftp://ftp.ifremer.fr/ifremer/ww3/HINDCAST/GLOBAL/2013_CFSR/hs/WW3-GLOB-30M_201302_hs.nc\n",
      "ftp://ftp.ifremer.fr/ifremer/ww3/HINDCAST/GLOBAL/2013_CFSR/hs/WW3-GLOB-30M_201303_hs.nc\n",
      "ftp://ftp.ifremer.fr/ifremer/ww3/HINDCAST/GLOBAL/2013_CFSR/hs/WW3-GLOB-30M_201304_hs.nc\n",
      "ftp://ftp.ifremer.fr/ifremer/ww3/HINDCAST/GLOBAL/2013_CFSR/hs/WW3-GLOB-30M_201305_hs.nc\n",
      "ftp://ftp.ifremer.fr/ifremer/ww3/HINDCAST/GLOBAL/2013_CFSR/hs/WW3-GLOB-30M_201306_hs.nc\n",
      "ftp://ftp.ifremer.fr/ifremer/ww3/HINDCAST/GLOBAL/2013_CFSR/hs/WW3-GLOB-30M_201307_hs.nc\n",
      "ftp://ftp.ifremer.fr/ifremer/ww3/HINDCAST/GLOBAL/2013_CFSR/hs/WW3-GLOB-30M_201308_hs.nc\n",
      "ftp://ftp.ifremer.fr/ifremer/ww3/HINDCAST/GLOBAL/2013_CFSR/hs/WW3-GLOB-30M_201309_hs.nc\n",
      "ftp://ftp.ifremer.fr/ifremer/ww3/HINDCAST/GLOBAL/2013_CFSR/hs/WW3-GLOB-30M_201310_hs.nc\n",
      "ftp://ftp.ifremer.fr/ifremer/ww3/HINDCAST/GLOBAL/2013_CFSR/hs/WW3-GLOB-30M_201311_hs.nc\n",
      "ftp://ftp.ifremer.fr/ifremer/ww3/HINDCAST/GLOBAL/2013_CFSR/hs/WW3-GLOB-30M_201312_hs.nc\n",
      "ftp://ftp.ifremer.fr/ifremer/ww3/HINDCAST/GLOBAL/2014_CFSR/hs/WW3-GLOB-30M_201401_hs.nc\n",
      "ftp://ftp.ifremer.fr/ifremer/ww3/HINDCAST/GLOBAL/2014_CFSR/hs/WW3-GLOB-30M_201402_hs.nc\n",
      "ftp://ftp.ifremer.fr/ifremer/ww3/HINDCAST/GLOBAL/2014_CFSR/hs/WW3-GLOB-30M_201403_hs.nc\n",
      "ftp://ftp.ifremer.fr/ifremer/ww3/HINDCAST/GLOBAL/2014_CFSR/hs/WW3-GLOB-30M_201404_hs.nc\n",
      "ftp://ftp.ifremer.fr/ifremer/ww3/HINDCAST/GLOBAL/2014_CFSR/hs/WW3-GLOB-30M_201405_hs.nc\n",
      "ftp://ftp.ifremer.fr/ifremer/ww3/HINDCAST/GLOBAL/2014_CFSR/hs/WW3-GLOB-30M_201406_hs.nc\n",
      "ftp://ftp.ifremer.fr/ifremer/ww3/HINDCAST/GLOBAL/2014_CFSR/hs/WW3-GLOB-30M_201407_hs.nc\n",
      "ftp://ftp.ifremer.fr/ifremer/ww3/HINDCAST/GLOBAL/2014_CFSR/hs/WW3-GLOB-30M_201408_hs.nc\n",
      "ftp://ftp.ifremer.fr/ifremer/ww3/HINDCAST/GLOBAL/2014_CFSR/hs/WW3-GLOB-30M_201409_hs.nc\n",
      "ftp://ftp.ifremer.fr/ifremer/ww3/HINDCAST/GLOBAL/2014_CFSR/hs/WW3-GLOB-30M_201410_hs.nc\n",
      "ftp://ftp.ifremer.fr/ifremer/ww3/HINDCAST/GLOBAL/2014_CFSR/hs/WW3-GLOB-30M_201411_hs.nc\n",
      "ftp://ftp.ifremer.fr/ifremer/ww3/HINDCAST/GLOBAL/2014_CFSR/hs/WW3-GLOB-30M_201412_hs.nc\n",
      "\n"
     ]
    }
   ],
   "source": [
    "for i in tqdm(range(len(dates))):\n",
    "    path = 'ftp://ftp.ifremer.fr/ifremer/ww3/HINDCAST/GLOBAL/' + years[i] + '_CFSR/hs/WW3-GLOB-30M_' + dates[i] + '_hs.nc'\n",
    "    save = '/Volumes/JCHD/Microplastics_Paper/Data/Hs_3hr/Hs' + dates[i] + '.nc'\n",
    "    print(path)\n",
    "    urllib.request.urlretrieve(path,save)"
   ]
  },
  {
   "cell_type": "code",
   "execution_count": 34,
   "metadata": {},
   "outputs": [],
   "source": [
    "file = xarray.load_dataset('/Volumes/JCHD/Microplastics_Paper/Data/Hs_3hr/Hs200201.nc')"
   ]
  },
  {
   "cell_type": "code",
   "execution_count": 35,
   "metadata": {},
   "outputs": [],
   "source": [
    "av = file.resample(time='24H').reduce(np.mean)"
   ]
  },
  {
   "cell_type": "code",
   "execution_count": 4,
   "metadata": {},
   "outputs": [
    {
     "data": {
      "application/vnd.jupyter.widget-view+json": {
       "model_id": "1f4bcddf8656430998573e10c6ed945d",
       "version_major": 2,
       "version_minor": 0
      },
      "text/plain": [
       "HBox(children=(IntProgress(value=0, max=144), HTML(value='')))"
      ]
     },
     "metadata": {},
     "output_type": "display_data"
    },
    {
     "name": "stdout",
     "output_type": "stream",
     "text": [
      "\n"
     ]
    }
   ],
   "source": [
    "for date in tqdm(dates):\n",
    "    path = '/Volumes/JCHD/Microplastics_Paper/Data/Hs_3hr/Hs' + date + '.nc'\n",
    "    save = '/Volumes/JCHD/Microplastics_Paper/Data/Hs_24hr/SWS' + date + '.nc'\n",
    "    file = xarray.load_dataset(path)\n",
    "    Hs = file.resample(time='24H').reduce(np.mean).hs\n",
    "    Hs.name = ('Hs')\n",
    "    Hs.to_netcdf(save)"
   ]
  },
  {
   "cell_type": "code",
   "execution_count": null,
   "metadata": {},
   "outputs": [],
   "source": []
  }
 ],
 "metadata": {
  "kernelspec": {
   "display_name": "Python 3",
   "language": "python",
   "name": "python3"
  },
  "language_info": {
   "codemirror_mode": {
    "name": "ipython",
    "version": 3
   },
   "file_extension": ".py",
   "mimetype": "text/x-python",
   "name": "python",
   "nbconvert_exporter": "python",
   "pygments_lexer": "ipython3",
   "version": "3.7.4"
  }
 },
 "nbformat": 4,
 "nbformat_minor": 4
}
