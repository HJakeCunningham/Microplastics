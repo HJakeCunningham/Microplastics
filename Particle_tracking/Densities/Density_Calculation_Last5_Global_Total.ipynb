{
 "cells": [
  {
   "cell_type": "code",
   "execution_count": 10,
   "metadata": {},
   "outputs": [],
   "source": [
    "from netCDF4 import Dataset\n",
    "import numpy as np\n",
    "from tqdm.autonotebook import tqdm\n",
    "import xarray"
   ]
  },
  {
   "cell_type": "code",
   "execution_count": 4,
   "metadata": {},
   "outputs": [],
   "source": [
    "def AreaCalc(sizeLat,sizeLon): #Calculate surface area of grid cells\n",
    "    deg2rd = np.pi/180.\n",
    "    r=6378.1\n",
    "    lon_bins = np.linspace(0,360., sizeLon+1)\n",
    "    lat_bins = np.linspace(-80, 80, sizeLat+1) \n",
    "    Area=np.array([[deg2rd*(lon_bins[i+1]-lon_bins[i])*(np.sin(deg2rd*lat_bins[j+1])\n",
    "                            - np.sin(deg2rd*lat_bins[j])) for i in range(len(lon_bins)-1)] \n",
    "                            for j in range(len(lat_bins)-1)])\n",
    "    Area=r*r*Area*1000*1000 #convert it to m^2 instead of km^2\n",
    "    return Area"
   ]
  },
  {
   "cell_type": "code",
   "execution_count": 5,
   "metadata": {},
   "outputs": [],
   "source": [
    "def HistogramFunction(londata,latdata):\n",
    "    londata,latdata=londata.reshape(np.size(londata)),latdata.reshape(np.size(latdata))\n",
    "    binsLon=np.arange(-180,180)\n",
    "    binsLat=np.arange(-80,80)\n",
    "    density=np.zeros((len(binsLon),len(binsLat)))\n",
    "    for i in range(np.array(londata).shape[0]):\n",
    "        density[np.argmin(np.abs(londata[i]-binsLon)),np.argmin(np.abs(latdata[i]-binsLat))]+=1\n",
    "    #Now, normalize it by area\n",
    "    area=AreaCalc(len(binsLat),len(binsLon)).T\n",
    "    density/=area\n",
    "    density[density==0]=np.nan\n",
    "    return density"
   ]
  },
  {
   "cell_type": "code",
   "execution_count": 12,
   "metadata": {},
   "outputs": [
    {
     "name": "stderr",
     "output_type": "stream",
     "text": [
      "/Users/jakecunningham/opt/anaconda3/lib/python3.7/site-packages/ipykernel_launcher.py:5: RuntimeWarning: invalid value encountered in greater\n",
      "  \"\"\"\n"
     ]
    },
    {
     "data": {
      "application/vnd.jupyter.widget-view+json": {
       "model_id": "1e5c3b8ecdb94b03bd0d367f798ab4c1",
       "version_major": 2,
       "version_minor": 0
      },
      "text/plain": [
       "HBox(children=(IntProgress(value=0, max=915), HTML(value='')))"
      ]
     },
     "metadata": {},
     "output_type": "display_data"
    },
    {
     "name": "stdout",
     "output_type": "stream",
     "text": [
      "\n"
     ]
    }
   ],
   "source": [
    "dataset=Dataset('/Volumes/4YP/Data/Trajectories/Global_Total.nc')\n",
    "lat=dataset.variables['lat'][:]\n",
    "lon=dataset.variables['lon'][:]\n",
    "time=dataset.variables['time'][:]\n",
    "lon[lon>180]-=360\n",
    "#Now, we want the last 5 years of particle positions, since in this time\n",
    "#the garbage patch has largely been formed\n",
    "if lon.shape[1]==4748:\n",
    "    lonLast=lon[:,-365*5:]\n",
    "    latLast=lat[:,-365*5:]\n",
    "    Time=time[:,-365*5:]\n",
    "else:\n",
    "    lonLast=lon[:,-183*5:]\n",
    "    latLast=lat[:,-183*5:]\n",
    "    Time=time[:,-183*5:]\n",
    "density=np.zeros((lonLast.shape[1],360,160))\n",
    "for j in tqdm(range(lonLast.shape[1])):\n",
    "    density[j,:,:]=HistogramFunction(lonLast[:,j],latLast[:,j])\n",
    "density.dump('/Volumes/4YP/Data/Densities/Density_5Years_Global_Total')"
   ]
  },
  {
   "cell_type": "code",
   "execution_count": 17,
   "metadata": {},
   "outputs": [
    {
     "name": "stdout",
     "output_type": "stream",
     "text": [
      "(915, 360, 160)\n"
     ]
    }
   ],
   "source": [
    "print(np.load('/Volumes/4YP/Data/Densities/Density_5Years_Global_Total', allow_pickle=True).shape)"
   ]
  },
  {
   "cell_type": "code",
   "execution_count": 18,
   "metadata": {},
   "outputs": [
    {
     "name": "stdout",
     "output_type": "stream",
     "text": [
      "(2374, 361, 161)\n"
     ]
    }
   ],
   "source": [
    "print(np.load('/Volumes/4YP/Data/Densities/Density_Global_Total.npy', allow_pickle=True).shape)"
   ]
  },
  {
   "cell_type": "code",
   "execution_count": null,
   "metadata": {},
   "outputs": [],
   "source": [
    "file"
   ]
  }
 ],
 "metadata": {
  "kernelspec": {
   "display_name": "Python 3",
   "language": "python",
   "name": "python3"
  },
  "language_info": {
   "codemirror_mode": {
    "name": "ipython",
    "version": 3
   },
   "file_extension": ".py",
   "mimetype": "text/x-python",
   "name": "python",
   "nbconvert_exporter": "python",
   "pygments_lexer": "ipython3",
   "version": "3.7.4"
  }
 },
 "nbformat": 4,
 "nbformat_minor": 2
}
