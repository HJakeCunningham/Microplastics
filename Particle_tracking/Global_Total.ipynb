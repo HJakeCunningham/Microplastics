{
 "cells": [
  {
   "cell_type": "code",
   "execution_count": 1,
   "metadata": {},
   "outputs": [],
   "source": [
    "from parcels import FieldSet, ParticleSet, JITParticle, AdvectionRK4,ErrorCode, plotTrajectoriesFile,Variable\n",
    "from datetime import timedelta, datetime\n",
    "import numpy as np\n",
    "import xarray\n",
    "from operator import attrgetter\n",
    "import math"
   ]
  },
  {
   "cell_type": "code",
   "execution_count": 2,
   "metadata": {},
   "outputs": [],
   "source": [
    "#We can add or remove all the zeros according to preference. In case that they are left there, we only get daily data for the currents which will end up with the code running faster, but we do lose time resolution. Tests will determine if this loss in time resolution is actually important\n",
    "filenames = {'U': \"/Volumes/4YP/Data/Total_24hr_new/Total*.nc\",\n",
    "             'V': \"/Volumes/4YP/Data/Total_24hr_new/Total*.nc\",\n",
    "             'borU':\"/Volumes/4YP/Data/Boundary_Velocity_24hr/BV*.nc\",\n",
    "             'borV':\"/Volumes/4YP/Data/Boundary_Velocity_24hr/BV*.nc\"}\n",
    "variables = {'U': 'eastward_eulerian_current_velocity',\n",
    "             'V': 'northward_eulerian_current_velocity',\n",
    "             'borU':'MaskUvel',\n",
    "             'borV':'MaskVvel'}\n",
    "dimensions = {'U':{'lat': 'latitude','lon': 'longitude','time': 'time'},\n",
    "              'V':{'lat': 'latitude','lon': 'longitude','time': 'time'},\n",
    "              'borU':{'lat': 'lat','lon': 'lon','time': 'time'},\n",
    "              'borV':{'lat': 'lat','lon': 'lon','time': 'time'},\n",
    "             }\n",
    "              "
   ]
  },
  {
   "cell_type": "code",
   "execution_count": 3,
   "metadata": {},
   "outputs": [
    {
     "name": "stderr",
     "output_type": "stream",
     "text": [
      "WARNING: Casting depth data to np.float32\n"
     ]
    }
   ],
   "source": [
    "#Create the fieldset with the periodic halo and time extrapolation for the EKE\n",
    "fieldset = FieldSet.from_netcdf(filenames, variables, dimensions,allow_time_extrapolation=True)\n",
    "fieldset.add_periodic_halo(zonal=True)"
   ]
  },
  {
   "cell_type": "code",
   "execution_count": 4,
   "metadata": {},
   "outputs": [],
   "source": [
    "#The starting coordinates of the Particles, for the North Pacific. They are generated\n",
    "#by the code NAgrid.py, graciously send to me by David.\n",
    "lons=np.load('/Volumes/4YP/Data/Particles_lon.npy')\n",
    "lats=np.load('/Volumes/4YP/Data/Particles_lat.npy')\n",
    "#lons, lats = np.meshgrid(lon,lat)\n",
    "lons[lons>180]-=360"
   ]
  },
  {
   "cell_type": "code",
   "execution_count": 5,
   "metadata": {},
   "outputs": [],
   "source": [
    "#And now we define what sort of particles we are actually dealing with\n",
    "class SampleParticle(JITParticle):\n",
    "#    #Now the part to determine the age of the particle\n",
    "    Age=Variable('Age',initial=0.,dtype=np.float32)#agr is gonna be in seconds\n",
    "    prev_time=Variable('prev_time',initial=attrgetter('time'),to_write=False)\n",
    "    #Now the part to track the distance covered\n",
    "#    distance = Variable('distance', initial=0., dtype=np.float32)\n",
    "#    prev_lon = Variable('prev_lon', dtype=np.float32, to_write=False,\n",
    "#                        initial=attrgetter('lon'))\n",
    "#    prev_lat = Variable('prev_lat', dtype=np.float32, to_write=False,\n",
    "#                        initial=attrgetter('lat'))\n",
    "#    #Now I also want the particle to be deleted if it is on land (so it won't move)\n",
    "#    count=Variable('count',initial=0,to_write=False)\n",
    "#    init_lon = Variable('init_lon', dtype=np.float32, to_write=False,\n",
    "#                        initial=attrgetter('lon'))\n",
    "#    init_lat = Variable('init_lat', dtype=np.float32, to_write=False,\n",
    "#                        initial=attrgetter('lat'))"
   ]
  },
  {
   "cell_type": "code",
   "execution_count": 6,
   "metadata": {},
   "outputs": [],
   "source": [
    "#The starting point of the similation and the endtime\n",
    "starttime=datetime(2002,1,1,0,0)\n",
    "endtime=datetime(2014,12,31,21,0)\n",
    "pset = ParticleSet(fieldset=fieldset, pclass=SampleParticle, lon=lons, lat=lats,time=starttime)"
   ]
  },
  {
   "cell_type": "code",
   "execution_count": 7,
   "metadata": {},
   "outputs": [],
   "source": [
    "#%% All the different functions/kernels we want to have\n",
    "def DeleteParticle(particle, fieldset, time, dt):\n",
    "    particle.delete()\n",
    "    print('we deleted it at '+str(particle.lon)+' and '+str(particle.lat))\n",
    "def AgeSample(particle, fiedset,time,dt):\n",
    "    current_time=particle.time\n",
    "    timedifference=current_time-particle.prev_time\n",
    "    particle.Age+=timedifference\n",
    "    particle.prev_time=current_time\n",
    "def antiBeach(particle,fieldset,time,dt):\n",
    "    bu=fieldset.borU[time,particle.lon,particle.lat,particle.depth]\n",
    "    bv=fieldset.borV[time,particle.lon,particle.lat,particle.depth]\n",
    "    particle.lon-=bu*dt*0.00001\n",
    "    particle.lat-=bv*dt*0.00001\n",
    "Agesam=pset.Kernel(AgeSample)    \n",
    "Beach=pset.Kernel(antiBeach)\n",
    "#Landsam=pset.Kernel(antiInitialLand)\n",
    "totalKernal=AdvectionRK4+Beach+Agesam"
   ]
  },
  {
   "cell_type": "code",
   "execution_count": null,
   "metadata": {},
   "outputs": [
    {
     "name": "stderr",
     "output_type": "stream",
     "text": [
      "INFO: Compiled SampleParticleAdvectionRK4antiBeachAgeSample ==> /var/folders/kh/l0nftmqx1wsgmy0j289n8dgc0000gn/T/parcels-501/722482c8f355e7a0754816a051a49d1a.so\n"
     ]
    }
   ],
   "source": [
    "pfile = pset.ParticleFile(name=\"/Volumes/4YP/Data/Trajectories/Global_Total_Test\",\n",
    "                          outputdt=timedelta(hours=48))\n",
    "\n",
    "Time=starttime\n",
    "steps=0\n",
    "while Time<=endtime:\n",
    "    steps+=1\n",
    "    Time+=timedelta(hours=48)\n",
    "\n",
    "for i in range(steps-1):\n",
    "    pset.execute(totalKernal,\n",
    "                 runtime=timedelta(hours=48),  # runtime controls the interval of the plots\n",
    "                 dt=timedelta(minutes=30),\n",
    "                 recovery={ErrorCode.ErrorOutOfBounds: DeleteParticle},\n",
    "                 output_file=pfile\n",
    "                 )  # the recovery kernel"
   ]
  },
  {
   "cell_type": "code",
   "execution_count": 12,
   "metadata": {},
   "outputs": [],
   "source": [
    "file = xarray.open_dataset(\"/Volumes/4YP/Data/Trajectories/Global_Total_2006.nc\")"
   ]
  },
  {
   "cell_type": "code",
   "execution_count": 13,
   "metadata": {},
   "outputs": [
    {
     "name": "stdout",
     "output_type": "stream",
     "text": [
      "<xarray.Dataset>\n",
      "Dimensions:     (obs: 2374, traj: 35145)\n",
      "Dimensions without coordinates: obs, traj\n",
      "Data variables:\n",
      "    trajectory  (traj, obs) int32 ...\n",
      "    time        (traj, obs) datetime64[ns] ...\n",
      "    lat         (traj, obs) float32 ...\n",
      "    lon         (traj, obs) float32 ...\n",
      "    z           (traj, obs) float32 ...\n",
      "    Age         (traj, obs) float32 ...\n",
      "Attributes:\n",
      "    feature_type:           trajectory\n",
      "    Conventions:            CF-1.6/CF-1.7\n",
      "    ncei_template_version:  NCEI_NetCDF_Trajectory_Template_v2.0\n",
      "    parcels_version:        1.1.1\n",
      "    parcels_mesh:           spherical\n"
     ]
    }
   ],
   "source": [
    "print(file)"
   ]
  },
  {
   "cell_type": "code",
   "execution_count": 16,
   "metadata": {},
   "outputs": [],
   "source": [
    "file = xarray.open_dataset(\"/Volumes/4YP/Data/Trajectories/Global_Total.nc\")"
   ]
  },
  {
   "cell_type": "code",
   "execution_count": 21,
   "metadata": {},
   "outputs": [
    {
     "name": "stdout",
     "output_type": "stream",
     "text": [
      "[[-69.125    -68.62582  -68.0592   ... -29.394514 -29.310421 -29.32421 ]\n",
      " [-68.125    -67.850426 -67.73982  ... -28.496605 -28.458593 -28.529087]\n",
      " [-67.125    -66.91757  -66.83777  ... -29.697302 -29.546995 -29.5039  ]\n",
      " ...\n",
      " [ 60.875     60.520523  60.313282 ...  36.389713  36.499386  36.661167]\n",
      " [ 61.875     61.468437  61.289753 ...  50.624947  50.624947  50.624947]\n",
      " [ 63.875     63.672264  63.6211   ...  58.937492  58.937492  58.937492]]\n"
     ]
    }
   ],
   "source": [
    "print(file.lat.values)"
   ]
  },
  {
   "cell_type": "code",
   "execution_count": null,
   "metadata": {},
   "outputs": [],
   "source": []
  }
 ],
 "metadata": {
  "kernelspec": {
   "display_name": "Python 3",
   "language": "python",
   "name": "python3"
  },
  "language_info": {
   "codemirror_mode": {
    "name": "ipython",
    "version": 3
   },
   "file_extension": ".py",
   "mimetype": "text/x-python",
   "name": "python",
   "nbconvert_exporter": "python",
   "pygments_lexer": "ipython3",
   "version": "3.7.4"
  }
 },
 "nbformat": 4,
 "nbformat_minor": 2
}
