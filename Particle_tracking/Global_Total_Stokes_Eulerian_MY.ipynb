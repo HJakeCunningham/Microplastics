{
 "cells": [
  {
   "cell_type": "code",
   "execution_count": 2,
   "metadata": {},
   "outputs": [
    {
     "name": "stderr",
     "output_type": "stream",
     "text": [
      "/Users/jakecunningham/opt/anaconda3/lib/python3.7/site-packages/tqdm/autonotebook.py:17: TqdmExperimentalWarning: Using `tqdm.autonotebook.tqdm` in notebook mode. Use `tqdm.tqdm` instead to force console mode (e.g. in jupyter console)\n",
      "  \" (e.g. in jupyter console)\", TqdmExperimentalWarning)\n"
     ]
    }
   ],
   "source": [
    "from parcels import FieldSet, ParticleSet, JITParticle, AdvectionRK4,ErrorCode, plotTrajectoriesFile,Variable,Geographic,GeographicPolar\n",
    "from datetime import timedelta, datetime\n",
    "import numpy as np\n",
    "from operator import attrgetter\n",
    "import math\n",
    "from tqdm.autonotebook import tqdm\n",
    "import xarray"
   ]
  },
  {
   "cell_type": "code",
   "execution_count": 3,
   "metadata": {},
   "outputs": [
    {
     "name": "stdout",
     "output_type": "stream",
     "text": [
      "<xarray.Dataset>\n",
      "Dimensions:    (latitude: 317, longitude: 720, time: 1)\n",
      "Coordinates:\n",
      "  * time       (time) datetime64[ns] 2002-01-01\n",
      "  * latitude   (latitude) float64 -78.0 -77.5 -77.0 -76.5 ... 79.0 79.5 80.0\n",
      "  * longitude  (longitude) float64 -180.0 -179.5 -179.0 ... 178.5 179.0 179.5\n",
      "Data variables:\n",
      "    U          (time, latitude, longitude) float64 ...\n",
      "    V          (time, latitude, longitude) float64 ...\n",
      "Attributes:\n",
      "    description:  Daily Mean Eulerian Current 20020101\n"
     ]
    }
   ],
   "source": [
    "file = xarray.open_dataset('/Volumes/4YP/Data/Eulerian_24hr/Eulerian20020101.nc')\n",
    "print(file)"
   ]
  },
  {
   "cell_type": "code",
   "execution_count": 4,
   "metadata": {},
   "outputs": [
    {
     "name": "stdout",
     "output_type": "stream",
     "text": [
      "<xarray.Dataset>\n",
      "Dimensions:    (latitude: 317, longitude: 720, time: 1)\n",
      "Coordinates:\n",
      "  * time       (time) datetime64[ns] 2002-01-01\n",
      "  * latitude   (latitude) float64 -78.0 -77.5 -77.0 -76.5 ... 79.0 79.5 80.0\n",
      "  * longitude  (longitude) float64 -180.0 -179.5 -179.0 ... 178.5 179.0 179.5\n",
      "Data variables:\n",
      "    U          (time, latitude, longitude) float64 ...\n",
      "    V          (time, latitude, longitude) float64 ...\n",
      "Attributes:\n",
      "    description:  Daily Mean Eulerian Current 20020101\n"
     ]
    }
   ],
   "source": [
    "file = xarray.open_dataset('/Volumes/JCHD/Microplastics_Paper/Data/Eulerian_24hr/Eulerian20020101.nc')\n",
    "print(file)"
   ]
  },
  {
   "cell_type": "code",
   "execution_count": 5,
   "metadata": {},
   "outputs": [],
   "source": [
    "#We can add or remove all the zeros according to preference. In case that they are left there, we only get daily data for the currents which will end up with the code running faster, but we do lose time resolution. Tests will determine if this loss in time resolution is actually important\n",
    "filenames = {'U': \"/Volumes/4YP/Data/Total_24hr_new/Total*.nc\",\n",
    "             'V': \"/Volumes/4YP/Data/Total_24hr_new/Total*.nc\",\n",
    "             'uuss':\"/Volumes/4YP/Data/Stokes_24hr/Stokes*.nc\",\n",
    "             'vuss':\"/Volumes/4YP/Data/Stokes_24hr/Stokes*.nc\",\n",
    "             'Ue': \"/Volumes/JCHD/Microplastics_Paper/Data/Eulerian_24hr/Eulerian*.nc\",\n",
    "             'Ve': \"/Volumes/JCHD/Microplastics_Paper/Data/Eulerian_24hr/Eulerian*.nc\",\n",
    "             'borU':\"/Volumes/4YP/Data/Boundary_Velocity_24hr/BV*.nc\",\n",
    "             'borV':\"/Volumes/4YP/Data/Boundary_Velocity_24hr/BV*.nc\"}\n",
    "variables = {'U': 'eastward_eulerian_current_velocity',\n",
    "             'V': 'northward_eulerian_current_velocity',\n",
    "             'uuss':'uuss',\n",
    "             'vuss':'vuss',\n",
    "             'Ue': 'U',\n",
    "             'Ve': 'V',\n",
    "             'borU':'MaskUvel',\n",
    "             'borV':'MaskVvel'}\n",
    "dimensions = {'U':{'time':'time','lat':'latitude','lon':'longitude'},\n",
    "              'V':{'time':'time','lat':'latitude','lon':'longitude'},\n",
    "              'uuss':{'time':'time','lat':'latitude','lon':'longitude'},\n",
    "              'vuss':{'time':'time','lat':'latitude','lon':'longitude'},\n",
    "              'Ue': {'time':'time','lat':'latitude','lon':'longitude'},\n",
    "              'Ve': {'time':'time','lat':'latitude','lon':'longitude'},\n",
    "              'borU':{'time':'time','lat':'lat','lon':'lon'},\n",
    "              'borV': {'time':'time','lat':'lat','lon':'lon'},\n",
    "             }"
   ]
  },
  {
   "cell_type": "code",
   "execution_count": 6,
   "metadata": {},
   "outputs": [
    {
     "name": "stderr",
     "output_type": "stream",
     "text": [
      "WARNING: Casting depth data to np.float32\n",
      "WARNING: Casting lon data to np.float32\n",
      "WARNING: Casting lat data to np.float32\n"
     ]
    }
   ],
   "source": [
    "#Create the fieldset with the periodic halo and time extrapolation for the EKE\n",
    "fieldset = FieldSet.from_netcdf(filenames, variables, dimensions,allow_time_extrapolation=True)\n",
    "fieldset.add_periodic_halo(zonal=True)\n",
    "fieldset.uuss.units=GeographicPolar()\n",
    "fieldset.vuss.units=Geographic()\n",
    "fieldset.Ue.units=GeographicPolar()\n",
    "fieldset.Ve.units=Geographic()"
   ]
  },
  {
   "cell_type": "code",
   "execution_count": 7,
   "metadata": {},
   "outputs": [],
   "source": [
    "#The starting coordinates of the Particles, for the North Pacific. They are generated\n",
    "#by the code NAgrid.py, graciously send to me by David.\n",
    "lons=np.load('/Volumes/4YP/Data/Particles_lon.npy')\n",
    "lats=np.load('/Volumes/4YP/Data/Particles_lat.npy')\n",
    "#lons, lats = np.meshgrid(lon,lat)\n",
    "lons[lons>180]-=360"
   ]
  },
  {
   "cell_type": "code",
   "execution_count": 8,
   "metadata": {},
   "outputs": [],
   "source": [
    "#And now we define what sort of particles we are actually dealing with\n",
    "class SampleParticle(JITParticle):\n",
    "#    #Now the part to determine the age of the particle\n",
    "    Age=Variable('Age',initial=0.,dtype=np.float32)#agr is gonna be in seconds\n",
    "    prev_time=Variable('prev_time',initial=attrgetter('time'),to_write=False)\n",
    "    #Now the part to track the distance covered\n",
    "#    distance = Variable('distance', initial=0., dtype=np.float32)\n",
    "#    prev_lon = Variable('prev_lon', dtype=np.float32, to_write=False,\n",
    "#                        initial=attrgetter('lon'))\n",
    "#    prev_lat = Variable('prev_lat', dtype=np.float32, to_write=False,\n",
    "#                        initial=attrgetter('lat'))\n",
    "#    #Now I also want the particle to be deleted if it is on land (so it won't move)\n",
    "#    count=Variable('count',initial=0,to_write=False)\n",
    "#    init_lon = Variable('init_lon', dtype=np.float32, to_write=False,\n",
    "#                        initial=attrgetter('lon'))\n",
    "#    init_lat = Variable('init_lat', dtype=np.float32, to_write=False,\n",
    "#                        initial=attrgetter('lat'))\n",
    "#The starting point of the similation and the endtime"
   ]
  },
  {
   "cell_type": "code",
   "execution_count": 9,
   "metadata": {},
   "outputs": [
    {
     "name": "stdout",
     "output_type": "stream",
     "text": [
      "4747 days, 21:00:00\n"
     ]
    }
   ],
   "source": [
    "starttime=datetime(2002,1,1,0,0)\n",
    "endtime=datetime(2014,12,31,21,0)\n",
    "print(abs(endtime-starttime))\n",
    "pset = ParticleSet(fieldset=fieldset, pclass=SampleParticle, lon=lons, lat=lats,time=starttime)"
   ]
  },
  {
   "cell_type": "code",
   "execution_count": 10,
   "metadata": {},
   "outputs": [],
   "source": [
    "def DeleteParticle(particle, fieldset, time, dt):\n",
    "    particle.delete()\n",
    "    print('we deleted it at '+str(particle.lon)+' and '+str(particle.lat))"
   ]
  },
  {
   "cell_type": "code",
   "execution_count": 11,
   "metadata": {},
   "outputs": [],
   "source": [
    "def AgeSample(particle, fiedset,time,dt):\n",
    "    current_time=particle.time\n",
    "    timedifference=current_time-particle.prev_time\n",
    "    particle.Age+=timedifference\n",
    "    particle.prev_time=current_time"
   ]
  },
  {
   "cell_type": "code",
   "execution_count": 12,
   "metadata": {},
   "outputs": [],
   "source": [
    "def periodicBC(particle,fieldset,time,dt):\n",
    "    if particle.lon<0:\n",
    "        particle.lon+=360\n",
    "    elif particle.lon >360:\n",
    "        particle.lon-=360"
   ]
  },
  {
   "cell_type": "code",
   "execution_count": 13,
   "metadata": {},
   "outputs": [],
   "source": [
    "def RungeKutta4FullCurrents(particle,fieldset,time,dt):\n",
    "    lon0,lat0=particle.lon,particle.lat\n",
    "    constant=0.00001*(-1)\n",
    "    d=particle.depth\n",
    "    u0=constant*fieldset.borU[time,lon0,lat0,d]+fieldset.U[time,lon0,lat0,d]+fieldset.uuss[time,lon0,lat0,d]+fieldset.Ue[time,lon0,lat0,d]\n",
    "    v0=constant*fieldset.borV[time,lon0,lat0,d]+fieldset.V[time,lon0,lat0,d]+fieldset.vuss[time,lon0,lat0,d]+fieldset.Ve[time,lon0,lat0,d]\n",
    "\n",
    "    lon1=lon0+u0*dt/2\n",
    "    lat1=lat0+v0*dt/2\n",
    "    u1=constant*fieldset.borU[time+0.5*dt,lon1,lat1,d]+fieldset.U[time+0.5*dt,lon1,lat1,d]+fieldset.uuss[time+0.5*dt,lon1,lat1,d]+fieldset.Ue[time+0.5*dt,lon1,lat1,d]\n",
    "    v1=constant*fieldset.borV[time+0.5*dt,lon1,lat1,d]+fieldset.V[time+0.5*dt,lon1,lat1,d]+fieldset.vuss[time+0.5*dt,lon1,lat1,d]+fieldset.Ve[time+0.5*dt,lon1,lat1,d]\n",
    "\n",
    "    lon2=lon0+u1*dt/2\n",
    "    lat2=lat0+v1*dt/2\n",
    "    u2=constant*fieldset.borU[time+0.5*dt,lon2,lat2,d]+fieldset.U[time+0.5*dt,lon2,lat2,d]+fieldset.uuss[time+0.5*dt,lon2,lat2,d]+fieldset.Ue[time+0.5*dt,lon2,lat2,d]\n",
    "    v2=constant*fieldset.borV[time+0.5*dt,lon2,lat2,d]+fieldset.V[time+0.5*dt,lon2,lat2,d]+fieldset.vuss[time+0.5*dt,lon2,lat2,d]+fieldset.Ve[time+0.5*dt,lon2,lat2,d]\n",
    "    \n",
    "    lon3=lon0+u2*dt\n",
    "    lat3=lat0+v2*dt\n",
    "    u3=constant*fieldset.borU[time+dt,lon3,lat3,d]+fieldset.U[time+dt,lon3,lat3,d]+fieldset.uuss[time+dt,lon3,lat3,d]+fieldset.Ue[time+dt,lon3,lat3,d]\n",
    "    v3=constant*fieldset.borV[time+dt,lon3,lat3,d]+fieldset.V[time+dt,lon3,lat3,d]+fieldset.vuss[time+dt,lon3,lat3,d]+fieldset.Ve[time+dt,lon3,lat3,d]\n",
    "\n",
    "    particle.lon+=(u0+2*u1+2*u2+u3)/6. * dt\n",
    "    particle.lat+=(v0+2*v1+2*v2+v3)/6. *dt"
   ]
  },
  {
   "cell_type": "code",
   "execution_count": 14,
   "metadata": {},
   "outputs": [],
   "source": [
    "move=pset.Kernel(periodicBC)\n",
    "Advection=pset.Kernel(RungeKutta4FullCurrents)\n",
    "Agesam=pset.Kernel(AgeSample) \n",
    "totalKernal=Advection+move+Agesam"
   ]
  },
  {
   "cell_type": "code",
   "execution_count": 15,
   "metadata": {},
   "outputs": [
    {
     "data": {
      "application/vnd.jupyter.widget-view+json": {
       "model_id": "14f02b10dc604ee0bb960d820353c577",
       "version_major": 2,
       "version_minor": 0
      },
      "text/plain": [
       "HBox(children=(IntProgress(value=0, max=2373), HTML(value='')))"
      ]
     },
     "metadata": {},
     "output_type": "display_data"
    },
    {
     "name": "stderr",
     "output_type": "stream",
     "text": [
      "INFO: Compiled SampleParticleRungeKutta4FullCurrentsperiodicBCAgeSample ==> /var/folders/kh/l0nftmqx1wsgmy0j289n8dgc0000gn/T/parcels-501/5fe55f358f2c83f7915be4474a0f86d8.so\n"
     ]
    },
    {
     "name": "stdout",
     "output_type": "stream",
     "text": [
      "\n"
     ]
    }
   ],
   "source": [
    "pfile = pset.ParticleFile(name=\"/Volumes/4YP/Data/Trajectories/Global_Total_Stokes_Eulerian\",\n",
    "                          outputdt=timedelta(hours=48))\n",
    "\n",
    "Time=starttime\n",
    "steps=0\n",
    "while Time<=endtime:\n",
    "    steps+=1\n",
    "    Time+=timedelta(hours=48)\n",
    "\n",
    "for i in tqdm(range(steps-1)):\n",
    "    pset.execute(totalKernal,\n",
    "                 runtime=timedelta(hours=48),  # runtime controls the interval of the plots\n",
    "                 dt=timedelta(minutes=30),\n",
    "                 recovery={ErrorCode.ErrorOutOfBounds: DeleteParticle},\n",
    "                 output_file=pfile\n",
    "                 )  # the recovery kernel"
   ]
  },
  {
   "cell_type": "code",
   "execution_count": 16,
   "metadata": {},
   "outputs": [],
   "source": [
    "file = xarray.open_dataset(\"/Volumes/4YP/Data/Trajectories/Global_Total_Stokes_Eulerian.nc\")"
   ]
  },
  {
   "cell_type": "code",
   "execution_count": 17,
   "metadata": {},
   "outputs": [
    {
     "name": "stdout",
     "output_type": "stream",
     "text": [
      "<xarray.Dataset>\n",
      "Dimensions:     (obs: 2374, traj: 35145)\n",
      "Dimensions without coordinates: obs, traj\n",
      "Data variables:\n",
      "    trajectory  (traj, obs) int32 ...\n",
      "    time        (traj, obs) datetime64[ns] ...\n",
      "    lat         (traj, obs) float32 ...\n",
      "    lon         (traj, obs) float32 ...\n",
      "    z           (traj, obs) float32 ...\n",
      "    Age         (traj, obs) float32 ...\n",
      "Attributes:\n",
      "    feature_type:           trajectory\n",
      "    Conventions:            CF-1.6/CF-1.7\n",
      "    ncei_template_version:  NCEI_NetCDF_Trajectory_Template_v2.0\n",
      "    parcels_version:        1.1.1\n",
      "    parcels_mesh:           spherical\n"
     ]
    }
   ],
   "source": [
    "print(file)"
   ]
  },
  {
   "cell_type": "code",
   "execution_count": 18,
   "metadata": {},
   "outputs": [],
   "source": [
    "file.to_netcdf('/Volumes/4YP/Data/Trajectories/Global_Total_Stokes_Eulerian_NEW.nc')"
   ]
  },
  {
   "cell_type": "code",
   "execution_count": 18,
   "metadata": {},
   "outputs": [],
   "source": [
    "h = xarray.open_dataset('/Volumes/4YP/Data/Trajectories/Global_Total_Stokes_NEW.nc')"
   ]
  },
  {
   "cell_type": "code",
   "execution_count": 19,
   "metadata": {},
   "outputs": [
    {
     "name": "stdout",
     "output_type": "stream",
     "text": [
      "<xarray.Dataset>\n",
      "Dimensions:     (obs: 2374, traj: 35145)\n",
      "Dimensions without coordinates: obs, traj\n",
      "Data variables:\n",
      "    trajectory  (traj, obs) int32 ...\n",
      "    time        (traj, obs) datetime64[ns] ...\n",
      "    lat         (traj, obs) float32 ...\n",
      "    lon         (traj, obs) float32 ...\n",
      "    z           (traj, obs) float32 ...\n",
      "    Age         (traj, obs) float32 ...\n",
      "Attributes:\n",
      "    feature_type:           trajectory\n",
      "    Conventions:            CF-1.6/CF-1.7\n",
      "    ncei_template_version:  NCEI_NetCDF_Trajectory_Template_v2.0\n",
      "    parcels_version:        1.1.1\n",
      "    parcels_mesh:           spherical\n"
     ]
    }
   ],
   "source": [
    "print(h)"
   ]
  },
  {
   "cell_type": "code",
   "execution_count": null,
   "metadata": {},
   "outputs": [],
   "source": []
  }
 ],
 "metadata": {
  "kernelspec": {
   "display_name": "Python 3",
   "language": "python",
   "name": "python3"
  },
  "language_info": {
   "codemirror_mode": {
    "name": "ipython",
    "version": 3
   },
   "file_extension": ".py",
   "mimetype": "text/x-python",
   "name": "python",
   "nbconvert_exporter": "python",
   "pygments_lexer": "ipython3",
   "version": "3.7.4"
  }
 },
 "nbformat": 4,
 "nbformat_minor": 4
}
